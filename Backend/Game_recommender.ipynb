{
 "cells": [
  {
   "cell_type": "code",
   "execution_count": 1,
   "id": "97fac8b6-0758-451d-8cde-cb92443b295b",
   "metadata": {},
   "outputs": [],
   "source": [
    "import numpy as np\n",
    "import pandas as pd"
   ]
  },
  {
   "cell_type": "code",
   "execution_count": 2,
   "id": "9509f363-3d01-4a55-8867-6f6d1f281061",
   "metadata": {},
   "outputs": [],
   "source": [
    "games = pd.read_csv('steamgames original data.csv')\n",
    "gamesid = pd.read_csv('games_march2025_cleaned.csv')"
   ]
  },
  {
   "cell_type": "code",
   "execution_count": 3,
   "id": "d0c4f2a7-4f56-4d56-9f3f-2c6882dec9de",
   "metadata": {},
   "outputs": [
    {
     "name": "stdout",
     "output_type": "stream",
     "text": [
      "<class 'pandas.core.frame.DataFrame'>\n",
      "RangeIndex: 5000 entries, 0 to 4999\n",
      "Data columns (total 12 columns):\n",
      " #   Column            Non-Null Count  Dtype \n",
      "---  ------            --------------  ----- \n",
      " 0   Index             5000 non-null   int64 \n",
      " 1   Titles            5000 non-null   object\n",
      " 2   Current Players   5000 non-null   object\n",
      " 3   Peak Players      5000 non-null   object\n",
      " 4   Total Hours       5000 non-null   object\n",
      " 5   Price             5000 non-null   object\n",
      " 6   Genre             5000 non-null   object\n",
      " 7   Release date      5000 non-null   object\n",
      " 8   Developer         5000 non-null   object\n",
      " 9   Publisher         5000 non-null   object\n",
      " 10  Positive Reviews  5000 non-null   object\n",
      " 11  Negative Reviews  5000 non-null   object\n",
      "dtypes: int64(1), object(11)\n",
      "memory usage: 468.9+ KB\n"
     ]
    }
   ],
   "source": [
    "games.info()"
   ]
  },
  {
   "cell_type": "code",
   "execution_count": 5,
   "id": "dbaa1adf-a881-4787-9f73-cbc89306de8f",
   "metadata": {},
   "outputs": [],
   "source": [
    "games['release_dates']= games['Release date'] \n",
    "games['name'] = games['Titles']"
   ]
  },
  {
   "cell_type": "code",
   "execution_count": 6,
   "id": "90ab742b-e26e-47fa-841a-35c47cf605cd",
   "metadata": {},
   "outputs": [
    {
     "data": {
      "text/html": [
       "<div>\n",
       "<style scoped>\n",
       "    .dataframe tbody tr th:only-of-type {\n",
       "        vertical-align: middle;\n",
       "    }\n",
       "\n",
       "    .dataframe tbody tr th {\n",
       "        vertical-align: top;\n",
       "    }\n",
       "\n",
       "    .dataframe thead th {\n",
       "        text-align: right;\n",
       "    }\n",
       "</style>\n",
       "<table border=\"1\" class=\"dataframe\">\n",
       "  <thead>\n",
       "    <tr style=\"text-align: right;\">\n",
       "      <th></th>\n",
       "      <th>Index</th>\n",
       "      <th>Titles</th>\n",
       "      <th>Current Players</th>\n",
       "      <th>Peak Players</th>\n",
       "      <th>Total Hours</th>\n",
       "      <th>Price</th>\n",
       "      <th>Genre</th>\n",
       "      <th>Release date</th>\n",
       "      <th>Developer</th>\n",
       "      <th>Publisher</th>\n",
       "      <th>Positive Reviews</th>\n",
       "      <th>Negative Reviews</th>\n",
       "      <th>release_dates</th>\n",
       "      <th>name</th>\n",
       "    </tr>\n",
       "  </thead>\n",
       "  <tbody>\n",
       "    <tr>\n",
       "      <th>0</th>\n",
       "      <td>1</td>\n",
       "      <td>Counter-Strike: Global Offensive</td>\n",
       "      <td>1075054</td>\n",
       "      <td>1320219</td>\n",
       "      <td>558998360</td>\n",
       "      <td>Free to Play</td>\n",
       "      <td>FPS; Shooter; Multiplayer</td>\n",
       "      <td>21 Aug 2012</td>\n",
       "      <td>Valve</td>\n",
       "      <td>Hidden Path Entertainment</td>\n",
       "      <td>6,123,686</td>\n",
       "      <td>804,911</td>\n",
       "      <td>21 Aug 2012</td>\n",
       "      <td>Counter-Strike: Global Offensive</td>\n",
       "    </tr>\n",
       "    <tr>\n",
       "      <th>1</th>\n",
       "      <td>2</td>\n",
       "      <td>Dota 2</td>\n",
       "      <td>623139</td>\n",
       "      <td>676653</td>\n",
       "      <td>295245771</td>\n",
       "      <td>Free to Play</td>\n",
       "      <td>Free to Play; MOBA; Multiplayer</td>\n",
       "      <td>9 Jul 2013</td>\n",
       "      <td>Valve</td>\n",
       "      <td>Valve</td>\n",
       "      <td>1,595,197</td>\n",
       "      <td>332,805</td>\n",
       "      <td>9 Jul 2013</td>\n",
       "      <td>Dota 2</td>\n",
       "    </tr>\n",
       "    <tr>\n",
       "      <th>2</th>\n",
       "      <td>3</td>\n",
       "      <td>PUBG: BATTLEGROUNDS</td>\n",
       "      <td>288743</td>\n",
       "      <td>452239</td>\n",
       "      <td>152986898</td>\n",
       "      <td>Free to Play</td>\n",
       "      <td>Survival; Shooter; Battle Royale</td>\n",
       "      <td>21 Dec 2017</td>\n",
       "      <td>KRAFTON, Inc.</td>\n",
       "      <td>KRAFTON, Inc.</td>\n",
       "      <td>1,219,342</td>\n",
       "      <td>919,837</td>\n",
       "      <td>21 Dec 2017</td>\n",
       "      <td>PUBG: BATTLEGROUNDS</td>\n",
       "    </tr>\n",
       "    <tr>\n",
       "      <th>3</th>\n",
       "      <td>4</td>\n",
       "      <td>Apex Legends</td>\n",
       "      <td>277684</td>\n",
       "      <td>441067</td>\n",
       "      <td>155374796</td>\n",
       "      <td>Free to Play</td>\n",
       "      <td>Free to Play; Multiplayer; Battle Royale</td>\n",
       "      <td>4 Nov 2020</td>\n",
       "      <td>Respawn Entertainment</td>\n",
       "      <td>Electronic Arts</td>\n",
       "      <td>492,111</td>\n",
       "      <td>97,196</td>\n",
       "      <td>4 Nov 2020</td>\n",
       "      <td>Apex Legends</td>\n",
       "    </tr>\n",
       "    <tr>\n",
       "      <th>4</th>\n",
       "      <td>5</td>\n",
       "      <td>Lost Ark</td>\n",
       "      <td>221578</td>\n",
       "      <td>223820</td>\n",
       "      <td>101661911</td>\n",
       "      <td>Free To Play</td>\n",
       "      <td>MMORPG; Free to Play; Action RPG</td>\n",
       "      <td>11 Feb 2022</td>\n",
       "      <td>Smilegate RPG</td>\n",
       "      <td>Amazon Games</td>\n",
       "      <td>136,039</td>\n",
       "      <td>53,143</td>\n",
       "      <td>11 Feb 2022</td>\n",
       "      <td>Lost Ark</td>\n",
       "    </tr>\n",
       "  </tbody>\n",
       "</table>\n",
       "</div>"
      ],
      "text/plain": [
       "   Index                            Titles Current Players Peak Players  \\\n",
       "0      1  Counter-Strike: Global Offensive         1075054      1320219   \n",
       "1      2                            Dota 2          623139       676653   \n",
       "2      3               PUBG: BATTLEGROUNDS          288743       452239   \n",
       "3      4                      Apex Legends          277684       441067   \n",
       "4      5                          Lost Ark          221578       223820   \n",
       "\n",
       "  Total Hours         Price                                     Genre  \\\n",
       "0   558998360  Free to Play                 FPS; Shooter; Multiplayer   \n",
       "1   295245771  Free to Play           Free to Play; MOBA; Multiplayer   \n",
       "2   152986898  Free to Play          Survival; Shooter; Battle Royale   \n",
       "3   155374796  Free to Play  Free to Play; Multiplayer; Battle Royale   \n",
       "4   101661911  Free To Play          MMORPG; Free to Play; Action RPG   \n",
       "\n",
       "  Release date              Developer                  Publisher  \\\n",
       "0  21 Aug 2012                  Valve  Hidden Path Entertainment   \n",
       "1   9 Jul 2013                  Valve                      Valve   \n",
       "2  21 Dec 2017          KRAFTON, Inc.              KRAFTON, Inc.   \n",
       "3   4 Nov 2020  Respawn Entertainment            Electronic Arts   \n",
       "4  11 Feb 2022          Smilegate RPG               Amazon Games   \n",
       "\n",
       "  Positive Reviews Negative Reviews release_dates  \\\n",
       "0        6,123,686          804,911   21 Aug 2012   \n",
       "1        1,595,197          332,805    9 Jul 2013   \n",
       "2        1,219,342          919,837   21 Dec 2017   \n",
       "3          492,111           97,196    4 Nov 2020   \n",
       "4          136,039           53,143   11 Feb 2022   \n",
       "\n",
       "                               name  \n",
       "0  Counter-Strike: Global Offensive  \n",
       "1                            Dota 2  \n",
       "2               PUBG: BATTLEGROUNDS  \n",
       "3                      Apex Legends  \n",
       "4                          Lost Ark  "
      ]
     },
     "execution_count": 6,
     "metadata": {},
     "output_type": "execute_result"
    }
   ],
   "source": [
    "games.head()"
   ]
  },
  {
   "cell_type": "code",
   "execution_count": 7,
   "id": "a17388e5-81fd-46b7-aab6-2ba0cf90363b",
   "metadata": {},
   "outputs": [],
   "source": [
    "games = games[['name','Genre','Developer','Publisher','release_dates']]"
   ]
  },
  {
   "cell_type": "code",
   "execution_count": 8,
   "id": "145f867a-5929-42d1-a663-4c106056ca5c",
   "metadata": {},
   "outputs": [
    {
     "data": {
      "text/plain": [
       "(5000, 5)"
      ]
     },
     "execution_count": 8,
     "metadata": {},
     "output_type": "execute_result"
    }
   ],
   "source": [
    "games.shape"
   ]
  },
  {
   "cell_type": "code",
   "execution_count": 9,
   "id": "150f29ec-5d53-4759-ab0a-e1a1fe0a9069",
   "metadata": {},
   "outputs": [
    {
     "data": {
      "text/html": [
       "<div>\n",
       "<style scoped>\n",
       "    .dataframe tbody tr th:only-of-type {\n",
       "        vertical-align: middle;\n",
       "    }\n",
       "\n",
       "    .dataframe tbody tr th {\n",
       "        vertical-align: top;\n",
       "    }\n",
       "\n",
       "    .dataframe thead th {\n",
       "        text-align: right;\n",
       "    }\n",
       "</style>\n",
       "<table border=\"1\" class=\"dataframe\">\n",
       "  <thead>\n",
       "    <tr style=\"text-align: right;\">\n",
       "      <th></th>\n",
       "      <th>name</th>\n",
       "      <th>Genre</th>\n",
       "      <th>Developer</th>\n",
       "      <th>Publisher</th>\n",
       "      <th>release_dates</th>\n",
       "    </tr>\n",
       "  </thead>\n",
       "  <tbody>\n",
       "    <tr>\n",
       "      <th>0</th>\n",
       "      <td>Counter-Strike: Global Offensive</td>\n",
       "      <td>FPS; Shooter; Multiplayer</td>\n",
       "      <td>Valve</td>\n",
       "      <td>Hidden Path Entertainment</td>\n",
       "      <td>21 Aug 2012</td>\n",
       "    </tr>\n",
       "    <tr>\n",
       "      <th>1</th>\n",
       "      <td>Dota 2</td>\n",
       "      <td>Free to Play; MOBA; Multiplayer</td>\n",
       "      <td>Valve</td>\n",
       "      <td>Valve</td>\n",
       "      <td>9 Jul 2013</td>\n",
       "    </tr>\n",
       "    <tr>\n",
       "      <th>2</th>\n",
       "      <td>PUBG: BATTLEGROUNDS</td>\n",
       "      <td>Survival; Shooter; Battle Royale</td>\n",
       "      <td>KRAFTON, Inc.</td>\n",
       "      <td>KRAFTON, Inc.</td>\n",
       "      <td>21 Dec 2017</td>\n",
       "    </tr>\n",
       "    <tr>\n",
       "      <th>3</th>\n",
       "      <td>Apex Legends</td>\n",
       "      <td>Free to Play; Multiplayer; Battle Royale</td>\n",
       "      <td>Respawn Entertainment</td>\n",
       "      <td>Electronic Arts</td>\n",
       "      <td>4 Nov 2020</td>\n",
       "    </tr>\n",
       "    <tr>\n",
       "      <th>4</th>\n",
       "      <td>Lost Ark</td>\n",
       "      <td>MMORPG; Free to Play; Action RPG</td>\n",
       "      <td>Smilegate RPG</td>\n",
       "      <td>Amazon Games</td>\n",
       "      <td>11 Feb 2022</td>\n",
       "    </tr>\n",
       "  </tbody>\n",
       "</table>\n",
       "</div>"
      ],
      "text/plain": [
       "                               name                                     Genre  \\\n",
       "0  Counter-Strike: Global Offensive                 FPS; Shooter; Multiplayer   \n",
       "1                            Dota 2           Free to Play; MOBA; Multiplayer   \n",
       "2               PUBG: BATTLEGROUNDS          Survival; Shooter; Battle Royale   \n",
       "3                      Apex Legends  Free to Play; Multiplayer; Battle Royale   \n",
       "4                          Lost Ark          MMORPG; Free to Play; Action RPG   \n",
       "\n",
       "               Developer                  Publisher release_dates  \n",
       "0                  Valve  Hidden Path Entertainment   21 Aug 2012  \n",
       "1                  Valve                      Valve    9 Jul 2013  \n",
       "2          KRAFTON, Inc.              KRAFTON, Inc.   21 Dec 2017  \n",
       "3  Respawn Entertainment            Electronic Arts    4 Nov 2020  \n",
       "4          Smilegate RPG               Amazon Games   11 Feb 2022  "
      ]
     },
     "execution_count": 9,
     "metadata": {},
     "output_type": "execute_result"
    }
   ],
   "source": [
    "games.head()"
   ]
  },
  {
   "cell_type": "code",
   "execution_count": 10,
   "id": "6e47e65b-7f2a-48a8-a6dc-ccfa86ea52c6",
   "metadata": {},
   "outputs": [
    {
     "data": {
      "text/plain": [
       "name             0\n",
       "Genre            0\n",
       "Developer        0\n",
       "Publisher        0\n",
       "release_dates    0\n",
       "dtype: int64"
      ]
     },
     "execution_count": 10,
     "metadata": {},
     "output_type": "execute_result"
    }
   ],
   "source": [
    "games.isnull().sum()"
   ]
  },
  {
   "cell_type": "code",
   "execution_count": 11,
   "id": "b615b247-c14e-46e1-bec0-05f8e50eac0d",
   "metadata": {},
   "outputs": [],
   "source": [
    "games.dropna(inplace = True)"
   ]
  },
  {
   "cell_type": "code",
   "execution_count": 14,
   "id": "8494b274-bb6f-46ad-9be2-799da7e1df53",
   "metadata": {},
   "outputs": [
    {
     "data": {
      "text/plain": [
       "0"
      ]
     },
     "execution_count": 14,
     "metadata": {},
     "output_type": "execute_result"
    }
   ],
   "source": [
    "games.duplicated().sum()"
   ]
  },
  {
   "cell_type": "code",
   "execution_count": 13,
   "id": "4dc1cd69-d91e-44e3-be6f-56be9d6b7254",
   "metadata": {},
   "outputs": [],
   "source": [
    "games = games.drop_duplicates()"
   ]
  },
  {
   "cell_type": "code",
   "execution_count": 15,
   "id": "eeeed41a-4ad2-4de8-affa-123e6a83b0cc",
   "metadata": {},
   "outputs": [],
   "source": [
    "games = games.merge(gamesid,on ='name')"
   ]
  },
  {
   "cell_type": "code",
   "execution_count": 16,
   "id": "49fb5924-a6d4-42ba-a39d-393db6e72d04",
   "metadata": {},
   "outputs": [
    {
     "data": {
      "text/html": [
       "<div>\n",
       "<style scoped>\n",
       "    .dataframe tbody tr th:only-of-type {\n",
       "        vertical-align: middle;\n",
       "    }\n",
       "\n",
       "    .dataframe tbody tr th {\n",
       "        vertical-align: top;\n",
       "    }\n",
       "\n",
       "    .dataframe thead th {\n",
       "        text-align: right;\n",
       "    }\n",
       "</style>\n",
       "<table border=\"1\" class=\"dataframe\">\n",
       "  <thead>\n",
       "    <tr style=\"text-align: right;\">\n",
       "      <th></th>\n",
       "      <th>name</th>\n",
       "      <th>Genre</th>\n",
       "      <th>Developer</th>\n",
       "      <th>Publisher</th>\n",
       "      <th>release_dates</th>\n",
       "      <th>appid</th>\n",
       "      <th>release_date</th>\n",
       "      <th>required_age</th>\n",
       "      <th>price</th>\n",
       "      <th>dlc_count</th>\n",
       "      <th>...</th>\n",
       "      <th>average_playtime_2weeks</th>\n",
       "      <th>median_playtime_forever</th>\n",
       "      <th>median_playtime_2weeks</th>\n",
       "      <th>discount</th>\n",
       "      <th>peak_ccu</th>\n",
       "      <th>tags</th>\n",
       "      <th>pct_pos_total</th>\n",
       "      <th>num_reviews_total</th>\n",
       "      <th>pct_pos_recent</th>\n",
       "      <th>num_reviews_recent</th>\n",
       "    </tr>\n",
       "  </thead>\n",
       "  <tbody>\n",
       "    <tr>\n",
       "      <th>0</th>\n",
       "      <td>Dota 2</td>\n",
       "      <td>Free to Play; MOBA; Multiplayer</td>\n",
       "      <td>Valve</td>\n",
       "      <td>Valve</td>\n",
       "      <td>9 Jul 2013</td>\n",
       "      <td>570</td>\n",
       "      <td>2013-07-09</td>\n",
       "      <td>0</td>\n",
       "      <td>0.00</td>\n",
       "      <td>2</td>\n",
       "      <td>...</td>\n",
       "      <td>1536</td>\n",
       "      <td>898</td>\n",
       "      <td>892</td>\n",
       "      <td>0</td>\n",
       "      <td>555977</td>\n",
       "      <td>{'Free to Play': 59933, 'MOBA': 20158, 'Multip...</td>\n",
       "      <td>81</td>\n",
       "      <td>2452595</td>\n",
       "      <td>80</td>\n",
       "      <td>29366</td>\n",
       "    </tr>\n",
       "    <tr>\n",
       "      <th>1</th>\n",
       "      <td>PUBG: BATTLEGROUNDS</td>\n",
       "      <td>Survival; Shooter; Battle Royale</td>\n",
       "      <td>KRAFTON, Inc.</td>\n",
       "      <td>KRAFTON, Inc.</td>\n",
       "      <td>21 Dec 2017</td>\n",
       "      <td>578080</td>\n",
       "      <td>2017-12-21</td>\n",
       "      <td>0</td>\n",
       "      <td>0.00</td>\n",
       "      <td>0</td>\n",
       "      <td>...</td>\n",
       "      <td>0</td>\n",
       "      <td>0</td>\n",
       "      <td>0</td>\n",
       "      <td>0</td>\n",
       "      <td>616738</td>\n",
       "      <td>{'Survival': 14838, 'Shooter': 12727, 'Battle ...</td>\n",
       "      <td>59</td>\n",
       "      <td>2513842</td>\n",
       "      <td>68</td>\n",
       "      <td>16720</td>\n",
       "    </tr>\n",
       "    <tr>\n",
       "      <th>2</th>\n",
       "      <td>Lost Ark</td>\n",
       "      <td>MMORPG; Free to Play; Action RPG</td>\n",
       "      <td>Smilegate RPG</td>\n",
       "      <td>Amazon Games</td>\n",
       "      <td>11 Feb 2022</td>\n",
       "      <td>1599340</td>\n",
       "      <td>2022-02-11</td>\n",
       "      <td>17</td>\n",
       "      <td>0.00</td>\n",
       "      <td>6</td>\n",
       "      <td>...</td>\n",
       "      <td>964</td>\n",
       "      <td>858</td>\n",
       "      <td>1901</td>\n",
       "      <td>0</td>\n",
       "      <td>21875</td>\n",
       "      <td>{'MMORPG': 427, 'Free to Play': 373, 'Action R...</td>\n",
       "      <td>71</td>\n",
       "      <td>201669</td>\n",
       "      <td>61</td>\n",
       "      <td>434</td>\n",
       "    </tr>\n",
       "    <tr>\n",
       "      <th>3</th>\n",
       "      <td>Goose Goose Duck</td>\n",
       "      <td>Free to Play; Multiplayer; PvP</td>\n",
       "      <td>Gaggle Studios, Inc.</td>\n",
       "      <td>Gaggle Studios, Inc.</td>\n",
       "      <td>3 Oct 2021</td>\n",
       "      <td>1568590</td>\n",
       "      <td>2021-10-03</td>\n",
       "      <td>0</td>\n",
       "      <td>0.00</td>\n",
       "      <td>0</td>\n",
       "      <td>...</td>\n",
       "      <td>0</td>\n",
       "      <td>0</td>\n",
       "      <td>0</td>\n",
       "      <td>0</td>\n",
       "      <td>0</td>\n",
       "      <td>[]</td>\n",
       "      <td>86</td>\n",
       "      <td>70904</td>\n",
       "      <td>84</td>\n",
       "      <td>911</td>\n",
       "    </tr>\n",
       "    <tr>\n",
       "      <th>4</th>\n",
       "      <td>Rust</td>\n",
       "      <td>Survival; Crafting; Multiplayer</td>\n",
       "      <td>Facepunch Studios</td>\n",
       "      <td>Facepunch Studios</td>\n",
       "      <td>8 Feb 2018</td>\n",
       "      <td>252490</td>\n",
       "      <td>2018-02-08</td>\n",
       "      <td>0</td>\n",
       "      <td>39.99</td>\n",
       "      <td>4</td>\n",
       "      <td>...</td>\n",
       "      <td>836</td>\n",
       "      <td>3675</td>\n",
       "      <td>231</td>\n",
       "      <td>0</td>\n",
       "      <td>200902</td>\n",
       "      <td>{'Survival': 18592, 'Crafting': 11822, 'Multip...</td>\n",
       "      <td>87</td>\n",
       "      <td>993856</td>\n",
       "      <td>87</td>\n",
       "      <td>14960</td>\n",
       "    </tr>\n",
       "  </tbody>\n",
       "</table>\n",
       "<p>5 rows × 51 columns</p>\n",
       "</div>"
      ],
      "text/plain": [
       "                  name                             Genre  \\\n",
       "0               Dota 2   Free to Play; MOBA; Multiplayer   \n",
       "1  PUBG: BATTLEGROUNDS  Survival; Shooter; Battle Royale   \n",
       "2             Lost Ark  MMORPG; Free to Play; Action RPG   \n",
       "3     Goose Goose Duck    Free to Play; Multiplayer; PvP   \n",
       "4                 Rust   Survival; Crafting; Multiplayer   \n",
       "\n",
       "              Developer             Publisher release_dates    appid  \\\n",
       "0                 Valve                 Valve    9 Jul 2013      570   \n",
       "1         KRAFTON, Inc.         KRAFTON, Inc.   21 Dec 2017   578080   \n",
       "2         Smilegate RPG          Amazon Games   11 Feb 2022  1599340   \n",
       "3  Gaggle Studios, Inc.  Gaggle Studios, Inc.    3 Oct 2021  1568590   \n",
       "4     Facepunch Studios     Facepunch Studios    8 Feb 2018   252490   \n",
       "\n",
       "  release_date  required_age  price  dlc_count  ... average_playtime_2weeks  \\\n",
       "0   2013-07-09             0   0.00          2  ...                    1536   \n",
       "1   2017-12-21             0   0.00          0  ...                       0   \n",
       "2   2022-02-11            17   0.00          6  ...                     964   \n",
       "3   2021-10-03             0   0.00          0  ...                       0   \n",
       "4   2018-02-08             0  39.99          4  ...                     836   \n",
       "\n",
       "  median_playtime_forever median_playtime_2weeks discount peak_ccu  \\\n",
       "0                     898                    892        0   555977   \n",
       "1                       0                      0        0   616738   \n",
       "2                     858                   1901        0    21875   \n",
       "3                       0                      0        0        0   \n",
       "4                    3675                    231        0   200902   \n",
       "\n",
       "                                                tags pct_pos_total  \\\n",
       "0  {'Free to Play': 59933, 'MOBA': 20158, 'Multip...            81   \n",
       "1  {'Survival': 14838, 'Shooter': 12727, 'Battle ...            59   \n",
       "2  {'MMORPG': 427, 'Free to Play': 373, 'Action R...            71   \n",
       "3                                                 []            86   \n",
       "4  {'Survival': 18592, 'Crafting': 11822, 'Multip...            87   \n",
       "\n",
       "  num_reviews_total  pct_pos_recent  num_reviews_recent  \n",
       "0           2452595              80               29366  \n",
       "1           2513842              68               16720  \n",
       "2            201669              61                 434  \n",
       "3             70904              84                 911  \n",
       "4            993856              87               14960  \n",
       "\n",
       "[5 rows x 51 columns]"
      ]
     },
     "execution_count": 16,
     "metadata": {},
     "output_type": "execute_result"
    }
   ],
   "source": [
    "games.head()"
   ]
  },
  {
   "cell_type": "code",
   "execution_count": 17,
   "id": "6af9853c-6150-4a90-ac82-cf514e29e31e",
   "metadata": {},
   "outputs": [],
   "source": [
    "games = games[['name','Developer','Publisher','release_dates','appid','tags']]"
   ]
  },
  {
   "cell_type": "code",
   "execution_count": 18,
   "id": "601aa976-916b-4ffd-a76a-79855b4ad2e4",
   "metadata": {},
   "outputs": [],
   "source": [
    "import ast\n",
    "def convert(obj):\n",
    "    L= []\n",
    "    for i in ast.literal_eval(obj):\n",
    "        L.append(i)\n",
    "    return L"
   ]
  },
  {
   "cell_type": "code",
   "execution_count": 19,
   "id": "7164a11c-7083-425d-a2f9-b696a17e5e5a",
   "metadata": {},
   "outputs": [],
   "source": [
    "games['tags']= games['tags'].apply(convert)"
   ]
  },
  {
   "cell_type": "code",
   "execution_count": 20,
   "id": "cf42c49b-7543-4f5a-8ab3-1bf2e4c1446b",
   "metadata": {},
   "outputs": [],
   "source": [
    "games['Publisher'] = games['Publisher'].apply(lambda x:x.split())"
   ]
  },
  {
   "cell_type": "code",
   "execution_count": 21,
   "id": "1e321b28-63ad-4727-b84d-595ec0e71de6",
   "metadata": {},
   "outputs": [
    {
     "data": {
      "text/html": [
       "<div>\n",
       "<style scoped>\n",
       "    .dataframe tbody tr th:only-of-type {\n",
       "        vertical-align: middle;\n",
       "    }\n",
       "\n",
       "    .dataframe tbody tr th {\n",
       "        vertical-align: top;\n",
       "    }\n",
       "\n",
       "    .dataframe thead th {\n",
       "        text-align: right;\n",
       "    }\n",
       "</style>\n",
       "<table border=\"1\" class=\"dataframe\">\n",
       "  <thead>\n",
       "    <tr style=\"text-align: right;\">\n",
       "      <th></th>\n",
       "      <th>name</th>\n",
       "      <th>Developer</th>\n",
       "      <th>Publisher</th>\n",
       "      <th>release_dates</th>\n",
       "      <th>appid</th>\n",
       "      <th>tags</th>\n",
       "    </tr>\n",
       "  </thead>\n",
       "  <tbody>\n",
       "    <tr>\n",
       "      <th>0</th>\n",
       "      <td>Dota 2</td>\n",
       "      <td>Valve</td>\n",
       "      <td>[Valve]</td>\n",
       "      <td>9 Jul 2013</td>\n",
       "      <td>570</td>\n",
       "      <td>[Free to Play, MOBA, Multiplayer, Strategy, e-...</td>\n",
       "    </tr>\n",
       "    <tr>\n",
       "      <th>1</th>\n",
       "      <td>PUBG: BATTLEGROUNDS</td>\n",
       "      <td>KRAFTON, Inc.</td>\n",
       "      <td>[KRAFTON,, Inc.]</td>\n",
       "      <td>21 Dec 2017</td>\n",
       "      <td>578080</td>\n",
       "      <td>[Survival, Shooter, Battle Royale, Multiplayer...</td>\n",
       "    </tr>\n",
       "    <tr>\n",
       "      <th>2</th>\n",
       "      <td>Lost Ark</td>\n",
       "      <td>Smilegate RPG</td>\n",
       "      <td>[Amazon, Games]</td>\n",
       "      <td>11 Feb 2022</td>\n",
       "      <td>1599340</td>\n",
       "      <td>[MMORPG, Free to Play, Action RPG, Multiplayer...</td>\n",
       "    </tr>\n",
       "    <tr>\n",
       "      <th>3</th>\n",
       "      <td>Goose Goose Duck</td>\n",
       "      <td>Gaggle Studios, Inc.</td>\n",
       "      <td>[Gaggle, Studios,, Inc.]</td>\n",
       "      <td>3 Oct 2021</td>\n",
       "      <td>1568590</td>\n",
       "      <td>[]</td>\n",
       "    </tr>\n",
       "    <tr>\n",
       "      <th>4</th>\n",
       "      <td>Rust</td>\n",
       "      <td>Facepunch Studios</td>\n",
       "      <td>[Facepunch, Studios]</td>\n",
       "      <td>8 Feb 2018</td>\n",
       "      <td>252490</td>\n",
       "      <td>[Survival, Crafting, Multiplayer, Open World, ...</td>\n",
       "    </tr>\n",
       "  </tbody>\n",
       "</table>\n",
       "</div>"
      ],
      "text/plain": [
       "                  name             Developer                 Publisher  \\\n",
       "0               Dota 2                 Valve                   [Valve]   \n",
       "1  PUBG: BATTLEGROUNDS         KRAFTON, Inc.          [KRAFTON,, Inc.]   \n",
       "2             Lost Ark         Smilegate RPG           [Amazon, Games]   \n",
       "3     Goose Goose Duck  Gaggle Studios, Inc.  [Gaggle, Studios,, Inc.]   \n",
       "4                 Rust     Facepunch Studios      [Facepunch, Studios]   \n",
       "\n",
       "  release_dates    appid                                               tags  \n",
       "0    9 Jul 2013      570  [Free to Play, MOBA, Multiplayer, Strategy, e-...  \n",
       "1   21 Dec 2017   578080  [Survival, Shooter, Battle Royale, Multiplayer...  \n",
       "2   11 Feb 2022  1599340  [MMORPG, Free to Play, Action RPG, Multiplayer...  \n",
       "3    3 Oct 2021  1568590                                                 []  \n",
       "4    8 Feb 2018   252490  [Survival, Crafting, Multiplayer, Open World, ...  "
      ]
     },
     "execution_count": 21,
     "metadata": {},
     "output_type": "execute_result"
    }
   ],
   "source": [
    "games.head()"
   ]
  },
  {
   "cell_type": "code",
   "execution_count": 22,
   "id": "53333cae-9c9b-49ac-9ff8-4edac8aa08e1",
   "metadata": {},
   "outputs": [],
   "source": [
    "games['tags']=games['tags'].apply(lambda x:[i.replace(\" \",\"\")for i in x])"
   ]
  },
  {
   "cell_type": "code",
   "execution_count": 23,
   "id": "b08450ea-c335-4ad1-9df7-072cb4845768",
   "metadata": {},
   "outputs": [],
   "source": [
    "games['Publisher']=games['Publisher'].apply(lambda x:[i.replace(\" \",\"\")for i in x])"
   ]
  },
  {
   "cell_type": "code",
   "execution_count": 24,
   "id": "db8ec373-8830-4171-9dd5-b9027d0ca700",
   "metadata": {},
   "outputs": [],
   "source": [
    "games['alltags'] = games['tags'] + games['Publisher']"
   ]
  },
  {
   "cell_type": "code",
   "execution_count": 25,
   "id": "d90c02c3-5cdf-4bd7-aea5-b791b0d6d740",
   "metadata": {},
   "outputs": [
    {
     "data": {
      "text/html": [
       "<div>\n",
       "<style scoped>\n",
       "    .dataframe tbody tr th:only-of-type {\n",
       "        vertical-align: middle;\n",
       "    }\n",
       "\n",
       "    .dataframe tbody tr th {\n",
       "        vertical-align: top;\n",
       "    }\n",
       "\n",
       "    .dataframe thead th {\n",
       "        text-align: right;\n",
       "    }\n",
       "</style>\n",
       "<table border=\"1\" class=\"dataframe\">\n",
       "  <thead>\n",
       "    <tr style=\"text-align: right;\">\n",
       "      <th></th>\n",
       "      <th>name</th>\n",
       "      <th>Developer</th>\n",
       "      <th>Publisher</th>\n",
       "      <th>release_dates</th>\n",
       "      <th>appid</th>\n",
       "      <th>tags</th>\n",
       "      <th>alltags</th>\n",
       "    </tr>\n",
       "  </thead>\n",
       "  <tbody>\n",
       "    <tr>\n",
       "      <th>0</th>\n",
       "      <td>Dota 2</td>\n",
       "      <td>Valve</td>\n",
       "      <td>[Valve]</td>\n",
       "      <td>9 Jul 2013</td>\n",
       "      <td>570</td>\n",
       "      <td>[FreetoPlay, MOBA, Multiplayer, Strategy, e-sp...</td>\n",
       "      <td>[FreetoPlay, MOBA, Multiplayer, Strategy, e-sp...</td>\n",
       "    </tr>\n",
       "    <tr>\n",
       "      <th>1</th>\n",
       "      <td>PUBG: BATTLEGROUNDS</td>\n",
       "      <td>KRAFTON, Inc.</td>\n",
       "      <td>[KRAFTON,, Inc.]</td>\n",
       "      <td>21 Dec 2017</td>\n",
       "      <td>578080</td>\n",
       "      <td>[Survival, Shooter, BattleRoyale, Multiplayer,...</td>\n",
       "      <td>[Survival, Shooter, BattleRoyale, Multiplayer,...</td>\n",
       "    </tr>\n",
       "    <tr>\n",
       "      <th>2</th>\n",
       "      <td>Lost Ark</td>\n",
       "      <td>Smilegate RPG</td>\n",
       "      <td>[Amazon, Games]</td>\n",
       "      <td>11 Feb 2022</td>\n",
       "      <td>1599340</td>\n",
       "      <td>[MMORPG, FreetoPlay, ActionRPG, Multiplayer, H...</td>\n",
       "      <td>[MMORPG, FreetoPlay, ActionRPG, Multiplayer, H...</td>\n",
       "    </tr>\n",
       "    <tr>\n",
       "      <th>3</th>\n",
       "      <td>Goose Goose Duck</td>\n",
       "      <td>Gaggle Studios, Inc.</td>\n",
       "      <td>[Gaggle, Studios,, Inc.]</td>\n",
       "      <td>3 Oct 2021</td>\n",
       "      <td>1568590</td>\n",
       "      <td>[]</td>\n",
       "      <td>[Gaggle, Studios,, Inc.]</td>\n",
       "    </tr>\n",
       "    <tr>\n",
       "      <th>4</th>\n",
       "      <td>Rust</td>\n",
       "      <td>Facepunch Studios</td>\n",
       "      <td>[Facepunch, Studios]</td>\n",
       "      <td>8 Feb 2018</td>\n",
       "      <td>252490</td>\n",
       "      <td>[Survival, Crafting, Multiplayer, OpenWorld, O...</td>\n",
       "      <td>[Survival, Crafting, Multiplayer, OpenWorld, O...</td>\n",
       "    </tr>\n",
       "  </tbody>\n",
       "</table>\n",
       "</div>"
      ],
      "text/plain": [
       "                  name             Developer                 Publisher  \\\n",
       "0               Dota 2                 Valve                   [Valve]   \n",
       "1  PUBG: BATTLEGROUNDS         KRAFTON, Inc.          [KRAFTON,, Inc.]   \n",
       "2             Lost Ark         Smilegate RPG           [Amazon, Games]   \n",
       "3     Goose Goose Duck  Gaggle Studios, Inc.  [Gaggle, Studios,, Inc.]   \n",
       "4                 Rust     Facepunch Studios      [Facepunch, Studios]   \n",
       "\n",
       "  release_dates    appid                                               tags  \\\n",
       "0    9 Jul 2013      570  [FreetoPlay, MOBA, Multiplayer, Strategy, e-sp...   \n",
       "1   21 Dec 2017   578080  [Survival, Shooter, BattleRoyale, Multiplayer,...   \n",
       "2   11 Feb 2022  1599340  [MMORPG, FreetoPlay, ActionRPG, Multiplayer, H...   \n",
       "3    3 Oct 2021  1568590                                                 []   \n",
       "4    8 Feb 2018   252490  [Survival, Crafting, Multiplayer, OpenWorld, O...   \n",
       "\n",
       "                                             alltags  \n",
       "0  [FreetoPlay, MOBA, Multiplayer, Strategy, e-sp...  \n",
       "1  [Survival, Shooter, BattleRoyale, Multiplayer,...  \n",
       "2  [MMORPG, FreetoPlay, ActionRPG, Multiplayer, H...  \n",
       "3                           [Gaggle, Studios,, Inc.]  \n",
       "4  [Survival, Crafting, Multiplayer, OpenWorld, O...  "
      ]
     },
     "execution_count": 25,
     "metadata": {},
     "output_type": "execute_result"
    }
   ],
   "source": [
    "games.head()"
   ]
  },
  {
   "cell_type": "code",
   "execution_count": 26,
   "id": "9352b6ae-32ed-4a8b-be53-ece2cc719d45",
   "metadata": {},
   "outputs": [],
   "source": [
    "games['title'] = games['name']"
   ]
  },
  {
   "cell_type": "code",
   "execution_count": 27,
   "id": "12ed80cd-da45-4fbc-aacc-84f7110f4e03",
   "metadata": {},
   "outputs": [
    {
     "data": {
      "text/html": [
       "<div>\n",
       "<style scoped>\n",
       "    .dataframe tbody tr th:only-of-type {\n",
       "        vertical-align: middle;\n",
       "    }\n",
       "\n",
       "    .dataframe tbody tr th {\n",
       "        vertical-align: top;\n",
       "    }\n",
       "\n",
       "    .dataframe thead th {\n",
       "        text-align: right;\n",
       "    }\n",
       "</style>\n",
       "<table border=\"1\" class=\"dataframe\">\n",
       "  <thead>\n",
       "    <tr style=\"text-align: right;\">\n",
       "      <th></th>\n",
       "      <th>name</th>\n",
       "      <th>Developer</th>\n",
       "      <th>Publisher</th>\n",
       "      <th>release_dates</th>\n",
       "      <th>appid</th>\n",
       "      <th>tags</th>\n",
       "      <th>alltags</th>\n",
       "      <th>title</th>\n",
       "    </tr>\n",
       "  </thead>\n",
       "  <tbody>\n",
       "    <tr>\n",
       "      <th>0</th>\n",
       "      <td>Dota 2</td>\n",
       "      <td>Valve</td>\n",
       "      <td>[Valve]</td>\n",
       "      <td>9 Jul 2013</td>\n",
       "      <td>570</td>\n",
       "      <td>[FreetoPlay, MOBA, Multiplayer, Strategy, e-sp...</td>\n",
       "      <td>[FreetoPlay, MOBA, Multiplayer, Strategy, e-sp...</td>\n",
       "      <td>Dota 2</td>\n",
       "    </tr>\n",
       "    <tr>\n",
       "      <th>1</th>\n",
       "      <td>PUBG: BATTLEGROUNDS</td>\n",
       "      <td>KRAFTON, Inc.</td>\n",
       "      <td>[KRAFTON,, Inc.]</td>\n",
       "      <td>21 Dec 2017</td>\n",
       "      <td>578080</td>\n",
       "      <td>[Survival, Shooter, BattleRoyale, Multiplayer,...</td>\n",
       "      <td>[Survival, Shooter, BattleRoyale, Multiplayer,...</td>\n",
       "      <td>PUBG: BATTLEGROUNDS</td>\n",
       "    </tr>\n",
       "    <tr>\n",
       "      <th>2</th>\n",
       "      <td>Lost Ark</td>\n",
       "      <td>Smilegate RPG</td>\n",
       "      <td>[Amazon, Games]</td>\n",
       "      <td>11 Feb 2022</td>\n",
       "      <td>1599340</td>\n",
       "      <td>[MMORPG, FreetoPlay, ActionRPG, Multiplayer, H...</td>\n",
       "      <td>[MMORPG, FreetoPlay, ActionRPG, Multiplayer, H...</td>\n",
       "      <td>Lost Ark</td>\n",
       "    </tr>\n",
       "    <tr>\n",
       "      <th>3</th>\n",
       "      <td>Goose Goose Duck</td>\n",
       "      <td>Gaggle Studios, Inc.</td>\n",
       "      <td>[Gaggle, Studios,, Inc.]</td>\n",
       "      <td>3 Oct 2021</td>\n",
       "      <td>1568590</td>\n",
       "      <td>[]</td>\n",
       "      <td>[Gaggle, Studios,, Inc.]</td>\n",
       "      <td>Goose Goose Duck</td>\n",
       "    </tr>\n",
       "    <tr>\n",
       "      <th>4</th>\n",
       "      <td>Rust</td>\n",
       "      <td>Facepunch Studios</td>\n",
       "      <td>[Facepunch, Studios]</td>\n",
       "      <td>8 Feb 2018</td>\n",
       "      <td>252490</td>\n",
       "      <td>[Survival, Crafting, Multiplayer, OpenWorld, O...</td>\n",
       "      <td>[Survival, Crafting, Multiplayer, OpenWorld, O...</td>\n",
       "      <td>Rust</td>\n",
       "    </tr>\n",
       "  </tbody>\n",
       "</table>\n",
       "</div>"
      ],
      "text/plain": [
       "                  name             Developer                 Publisher  \\\n",
       "0               Dota 2                 Valve                   [Valve]   \n",
       "1  PUBG: BATTLEGROUNDS         KRAFTON, Inc.          [KRAFTON,, Inc.]   \n",
       "2             Lost Ark         Smilegate RPG           [Amazon, Games]   \n",
       "3     Goose Goose Duck  Gaggle Studios, Inc.  [Gaggle, Studios,, Inc.]   \n",
       "4                 Rust     Facepunch Studios      [Facepunch, Studios]   \n",
       "\n",
       "  release_dates    appid                                               tags  \\\n",
       "0    9 Jul 2013      570  [FreetoPlay, MOBA, Multiplayer, Strategy, e-sp...   \n",
       "1   21 Dec 2017   578080  [Survival, Shooter, BattleRoyale, Multiplayer,...   \n",
       "2   11 Feb 2022  1599340  [MMORPG, FreetoPlay, ActionRPG, Multiplayer, H...   \n",
       "3    3 Oct 2021  1568590                                                 []   \n",
       "4    8 Feb 2018   252490  [Survival, Crafting, Multiplayer, OpenWorld, O...   \n",
       "\n",
       "                                             alltags                title  \n",
       "0  [FreetoPlay, MOBA, Multiplayer, Strategy, e-sp...               Dota 2  \n",
       "1  [Survival, Shooter, BattleRoyale, Multiplayer,...  PUBG: BATTLEGROUNDS  \n",
       "2  [MMORPG, FreetoPlay, ActionRPG, Multiplayer, H...             Lost Ark  \n",
       "3                           [Gaggle, Studios,, Inc.]     Goose Goose Duck  \n",
       "4  [Survival, Crafting, Multiplayer, OpenWorld, O...                 Rust  "
      ]
     },
     "execution_count": 27,
     "metadata": {},
     "output_type": "execute_result"
    }
   ],
   "source": [
    "games.head()"
   ]
  },
  {
   "cell_type": "code",
   "execution_count": 28,
   "id": "6562f2dc-305a-4073-807d-71e3096a699a",
   "metadata": {},
   "outputs": [],
   "source": [
    "new_df= games[['title','Developer','alltags','release_dates','appid']]"
   ]
  },
  {
   "cell_type": "code",
   "execution_count": 29,
   "id": "f113f5ec-de2f-4537-94ab-a6faf3296ad5",
   "metadata": {},
   "outputs": [
    {
     "name": "stderr",
     "output_type": "stream",
     "text": [
      "/var/folders/9_/0czp094s6f3599rzncw21bgc0000gn/T/ipykernel_12298/4096294764.py:1: SettingWithCopyWarning: \n",
      "A value is trying to be set on a copy of a slice from a DataFrame.\n",
      "Try using .loc[row_indexer,col_indexer] = value instead\n",
      "\n",
      "See the caveats in the documentation: https://pandas.pydata.org/pandas-docs/stable/user_guide/indexing.html#returning-a-view-versus-a-copy\n",
      "  new_df['alltags'] = new_df['alltags'].apply(lambda x:\" \".join(x))\n"
     ]
    }
   ],
   "source": [
    "new_df['alltags'] = new_df['alltags'].apply(lambda x:\" \".join(x))"
   ]
  },
  {
   "cell_type": "code",
   "execution_count": 30,
   "id": "34644e42-b226-462d-9d4a-7282d7e9794a",
   "metadata": {},
   "outputs": [
    {
     "name": "stderr",
     "output_type": "stream",
     "text": [
      "/var/folders/9_/0czp094s6f3599rzncw21bgc0000gn/T/ipykernel_12298/3232027791.py:1: SettingWithCopyWarning: \n",
      "A value is trying to be set on a copy of a slice from a DataFrame.\n",
      "Try using .loc[row_indexer,col_indexer] = value instead\n",
      "\n",
      "See the caveats in the documentation: https://pandas.pydata.org/pandas-docs/stable/user_guide/indexing.html#returning-a-view-versus-a-copy\n",
      "  new_df['alltags']=new_df['alltags'].apply(lambda x:x.lower())\n"
     ]
    }
   ],
   "source": [
    "new_df['alltags']=new_df['alltags'].apply(lambda x:x.lower())"
   ]
  },
  {
   "cell_type": "code",
   "execution_count": 31,
   "id": "5ee24710-493d-4b05-bf52-1e84c391f005",
   "metadata": {},
   "outputs": [
    {
     "data": {
      "text/html": [
       "<div>\n",
       "<style scoped>\n",
       "    .dataframe tbody tr th:only-of-type {\n",
       "        vertical-align: middle;\n",
       "    }\n",
       "\n",
       "    .dataframe tbody tr th {\n",
       "        vertical-align: top;\n",
       "    }\n",
       "\n",
       "    .dataframe thead th {\n",
       "        text-align: right;\n",
       "    }\n",
       "</style>\n",
       "<table border=\"1\" class=\"dataframe\">\n",
       "  <thead>\n",
       "    <tr style=\"text-align: right;\">\n",
       "      <th></th>\n",
       "      <th>title</th>\n",
       "      <th>Developer</th>\n",
       "      <th>alltags</th>\n",
       "      <th>release_dates</th>\n",
       "      <th>appid</th>\n",
       "    </tr>\n",
       "  </thead>\n",
       "  <tbody>\n",
       "    <tr>\n",
       "      <th>0</th>\n",
       "      <td>Dota 2</td>\n",
       "      <td>Valve</td>\n",
       "      <td>freetoplay moba multiplayer strategy e-sports ...</td>\n",
       "      <td>9 Jul 2013</td>\n",
       "      <td>570</td>\n",
       "    </tr>\n",
       "    <tr>\n",
       "      <th>1</th>\n",
       "      <td>PUBG: BATTLEGROUNDS</td>\n",
       "      <td>KRAFTON, Inc.</td>\n",
       "      <td>survival shooter battleroyale multiplayer fps ...</td>\n",
       "      <td>21 Dec 2017</td>\n",
       "      <td>578080</td>\n",
       "    </tr>\n",
       "    <tr>\n",
       "      <th>2</th>\n",
       "      <td>Lost Ark</td>\n",
       "      <td>Smilegate RPG</td>\n",
       "      <td>mmorpg freetoplay actionrpg multiplayer hackan...</td>\n",
       "      <td>11 Feb 2022</td>\n",
       "      <td>1599340</td>\n",
       "    </tr>\n",
       "    <tr>\n",
       "      <th>3</th>\n",
       "      <td>Goose Goose Duck</td>\n",
       "      <td>Gaggle Studios, Inc.</td>\n",
       "      <td>gaggle studios, inc.</td>\n",
       "      <td>3 Oct 2021</td>\n",
       "      <td>1568590</td>\n",
       "    </tr>\n",
       "    <tr>\n",
       "      <th>4</th>\n",
       "      <td>Rust</td>\n",
       "      <td>Facepunch Studios</td>\n",
       "      <td>survival crafting multiplayer openworld openwo...</td>\n",
       "      <td>8 Feb 2018</td>\n",
       "      <td>252490</td>\n",
       "    </tr>\n",
       "  </tbody>\n",
       "</table>\n",
       "</div>"
      ],
      "text/plain": [
       "                 title             Developer  \\\n",
       "0               Dota 2                 Valve   \n",
       "1  PUBG: BATTLEGROUNDS         KRAFTON, Inc.   \n",
       "2             Lost Ark         Smilegate RPG   \n",
       "3     Goose Goose Duck  Gaggle Studios, Inc.   \n",
       "4                 Rust     Facepunch Studios   \n",
       "\n",
       "                                             alltags release_dates    appid  \n",
       "0  freetoplay moba multiplayer strategy e-sports ...    9 Jul 2013      570  \n",
       "1  survival shooter battleroyale multiplayer fps ...   21 Dec 2017   578080  \n",
       "2  mmorpg freetoplay actionrpg multiplayer hackan...   11 Feb 2022  1599340  \n",
       "3                               gaggle studios, inc.    3 Oct 2021  1568590  \n",
       "4  survival crafting multiplayer openworld openwo...    8 Feb 2018   252490  "
      ]
     },
     "execution_count": 31,
     "metadata": {},
     "output_type": "execute_result"
    }
   ],
   "source": [
    "new_df.head()"
   ]
  },
  {
   "cell_type": "code",
   "execution_count": 32,
   "id": "abe85929-1dae-47bb-bac8-f42953eeaa72",
   "metadata": {},
   "outputs": [],
   "source": [
    "import nltk"
   ]
  },
  {
   "cell_type": "code",
   "execution_count": 33,
   "id": "c19f0a4f-48ca-42ba-8edd-88545049612d",
   "metadata": {},
   "outputs": [],
   "source": [
    "from nltk.stem.porter import PorterStemmer\n",
    "ps = PorterStemmer()"
   ]
  },
  {
   "cell_type": "code",
   "execution_count": 34,
   "id": "33c3551a-6aeb-48f2-81a3-cd013705bb64",
   "metadata": {},
   "outputs": [],
   "source": [
    "def stem(text):\n",
    "    y = []\n",
    "\n",
    "    for i in text.split():\n",
    "        y.append(ps.stem(i))\n",
    "\n",
    "    return \" \".join(y)"
   ]
  },
  {
   "cell_type": "code",
   "execution_count": 35,
   "id": "95f86481-a319-4f61-b328-f645178db0d5",
   "metadata": {},
   "outputs": [
    {
     "name": "stderr",
     "output_type": "stream",
     "text": [
      "/var/folders/9_/0czp094s6f3599rzncw21bgc0000gn/T/ipykernel_12298/2121453934.py:1: SettingWithCopyWarning: \n",
      "A value is trying to be set on a copy of a slice from a DataFrame.\n",
      "Try using .loc[row_indexer,col_indexer] = value instead\n",
      "\n",
      "See the caveats in the documentation: https://pandas.pydata.org/pandas-docs/stable/user_guide/indexing.html#returning-a-view-versus-a-copy\n",
      "  new_df['alltags']=new_df['alltags'].apply(stem)\n"
     ]
    }
   ],
   "source": [
    "new_df['alltags']=new_df['alltags'].apply(stem)"
   ]
  },
  {
   "cell_type": "code",
   "execution_count": 36,
   "id": "17426d82-d1a1-47e2-98c1-063e7beb4f14",
   "metadata": {},
   "outputs": [],
   "source": [
    "games.to_csv(\"games.csv\", index=False)"
   ]
  },
  {
   "cell_type": "code",
   "execution_count": 37,
   "id": "a621beac-a6ad-4123-9044-552cc0e91489",
   "metadata": {},
   "outputs": [],
   "source": [
    "from sklearn.feature_extraction.text import CountVectorizer\n",
    "cv = CountVectorizer(max_features=5000,stop_words='english')"
   ]
  },
  {
   "cell_type": "code",
   "execution_count": 38,
   "id": "829af5ba-2599-40cf-bc52-b43d888cbe84",
   "metadata": {},
   "outputs": [],
   "source": [
    "vectors = cv.fit_transform(new_df['alltags']).toarray()"
   ]
  },
  {
   "cell_type": "code",
   "execution_count": 39,
   "id": "fb9c9eb7-8122-4650-83e1-72a325bddea8",
   "metadata": {},
   "outputs": [],
   "source": [
    "from sklearn.metrics.pairwise import cosine_similarity"
   ]
  },
  {
   "cell_type": "code",
   "execution_count": 40,
   "id": "6cdfc3ab-4aca-4956-bdd2-2ee16201a0c6",
   "metadata": {},
   "outputs": [],
   "source": [
    "similarity = cosine_similarity(vectors)"
   ]
  },
  {
   "cell_type": "code",
   "execution_count": 54,
   "id": "bd4bb201-9037-41d3-811b-b3afa3f35420",
   "metadata": {},
   "outputs": [
    {
     "data": {
      "text/plain": [
       "55"
      ]
     },
     "execution_count": 54,
     "metadata": {},
     "output_type": "execute_result"
    }
   ],
   "source": [
    "new_df[new_df['title'] == 'FIFA 22'].index[0]"
   ]
  },
  {
   "cell_type": "code",
   "execution_count": 55,
   "id": "64b59ba2-2893-43ba-9bb7-a3e71c23898a",
   "metadata": {},
   "outputs": [
    {
     "data": {
      "text/plain": [
       "array([0.51449576, 0.44589632, 0.31506302, ..., 0.27116307, 0.32338083,\n",
       "       0.08318903])"
      ]
     },
     "execution_count": 55,
     "metadata": {},
     "output_type": "execute_result"
    }
   ],
   "source": [
    "similarity[55]"
   ]
  },
  {
   "cell_type": "code",
   "execution_count": 51,
   "id": "c2a1daab-bc5e-4c1d-a321-589689ddcbcf",
   "metadata": {},
   "outputs": [
    {
     "data": {
      "text/plain": [
       "[(187, 0.7637626158259733),\n",
       " (772, 0.7407407407407409),\n",
       " (64, 0.727392967453308),\n",
       " (1158, 0.727392967453308),\n",
       " (15, 0.7147416898918633)]"
      ]
     },
     "execution_count": 51,
     "metadata": {},
     "output_type": "execute_result"
    }
   ],
   "source": [
    "sorted(list(enumerate(similarity[99])),reverse=True,key=lambda x:x[1])[1:6]"
   ]
  },
  {
   "cell_type": "code",
   "execution_count": 56,
   "id": "05dbb797-4d34-4f93-831b-5f817444957d",
   "metadata": {},
   "outputs": [],
   "source": [
    "def recommend(game):\n",
    "    game_index = new_df[new_df['title'] == game].index[0]\n",
    "    distances = similarity[game_index]\n",
    "    game_list = sorted(list(enumerate(distances)),reverse=True,key=lambda x:x[1])[1:6]\n",
    "\n",
    "    for i in game_list:\n",
    "        print (new_df.iloc[i[0]].title)"
   ]
  },
  {
   "cell_type": "code",
   "execution_count": 58,
   "id": "4fbaf861-07ca-446e-87b9-52c479171a1c",
   "metadata": {},
   "outputs": [
    {
     "name": "stdout",
     "output_type": "stream",
     "text": [
      "Madden NFL 23\n",
      "EA SPORTS™ FIFA 21\n",
      "Super Mega Baseball 3\n",
      "Tennis Elbow 4\n",
      "Rugby 22\n"
     ]
    }
   ],
   "source": [
    "recommend('FIFA 22')"
   ]
  },
  {
   "cell_type": "code",
   "execution_count": 59,
   "id": "6e132a9b-2f8f-402a-aa38-4e9d76d7c704",
   "metadata": {},
   "outputs": [],
   "source": [
    "import pickle"
   ]
  },
  {
   "cell_type": "code",
   "execution_count": 61,
   "id": "394bcb06-f4fa-4e4d-aaac-0fbc1404a183",
   "metadata": {},
   "outputs": [],
   "source": [
    "pickle.dump(new_df,open('games.pkl','wb'))"
   ]
  },
  {
   "cell_type": "code",
   "execution_count": null,
   "id": "e3304cec-a65b-4c72-8ff4-78081614e4a1",
   "metadata": {},
   "outputs": [],
   "source": []
  }
 ],
 "metadata": {
  "kernelspec": {
   "display_name": "Python 3 (ipykernel)",
   "language": "python",
   "name": "python3"
  },
  "language_info": {
   "codemirror_mode": {
    "name": "ipython",
    "version": 3
   },
   "file_extension": ".py",
   "mimetype": "text/x-python",
   "name": "python",
   "nbconvert_exporter": "python",
   "pygments_lexer": "ipython3",
   "version": "3.12.7"
  }
 },
 "nbformat": 4,
 "nbformat_minor": 5
}
